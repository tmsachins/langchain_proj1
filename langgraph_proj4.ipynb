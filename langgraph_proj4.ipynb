{
 "cells": [
  {
   "cell_type": "code",
   "execution_count": 24,
   "id": "226e9786",
   "metadata": {},
   "outputs": [
    {
     "name": "stdout",
     "output_type": "stream",
     "text": [
      "{'input': 'hello'}\n",
      "<class 'dict'>\n",
      "{'input': 'hello', 'output': 'HELLO'}\n"
     ]
    }
   ],
   "source": [
    "from langgraph.graph import StateGraph, END, START\n",
    "from typing import TypedDict\n",
    "\n",
    "# Define the state class\n",
    "class MyState(TypedDict):\n",
    "    input: str\n",
    "    output: str\n",
    "\n",
    "# Define functions (nodes)\n",
    "def process_input(state) -> MyState:\n",
    "    print(state)\n",
    "    state[\"output\"] = state[\"input\"].upper()\n",
    "    print(type(state))\n",
    "    return state\n",
    "\n",
    "# Build the graph\n",
    "builder = StateGraph(MyState)\n",
    "builder.add_node(\"process11\", process_input)\n",
    "\n",
    "# builder.set_entry_point(\"process\")\n",
    "# builder.set_finish_point(\"process\")\n",
    "builder.add_edge(START, 'process11')   # START is a special node that indicates where to start the graph   \n",
    "builder.add_edge('process11', END)     # END is special node that indicates where to end the graph execution\n",
    "\n",
    "# Compile the graph\n",
    "graph = builder.compile()\n",
    "\n",
    "# Run the graph\n",
    "result = graph.invoke({\"input\": \"hello\"})\n",
    "print(result)  # {'input': 'hello', 'output': 'HELLO'}\n"
   ]
  },
  {
   "cell_type": "code",
   "execution_count": 25,
   "id": "e7e51bba",
   "metadata": {},
   "outputs": [
    {
     "data": {
      "image/png": "[encoded data removed]",
      "text/plain": [
       "<langgraph.graph.state.CompiledStateGraph object at 0x0000022338220F40>"
      ]
     },
     "execution_count": 25,
     "metadata": {},
     "output_type": "execute_result"
    }
   ],
   "source": [
    "graph"
   ]
  },
  {
   "cell_type": "code",
   "execution_count": null,
   "id": "f3548e9a",
   "metadata": {},
   "outputs": [],
   "source": []
  }
 ],
 "metadata": {
  "kernelspec": {
   "display_name": "Python 3",
   "language": "python",
   "name": "python3"
  },
  "language_info": {
   "codemirror_mode": {
    "name": "ipython",
    "version": 3
   },
   "file_extension": ".py",
   "mimetype": "text/x-python",
   "name": "python",
   "nbconvert_exporter": "python",
   "pygments_lexer": "ipython3",
   "version": "3.9.21"
  }
 },
 "nbformat": 4,
 "nbformat_minor": 5
}
