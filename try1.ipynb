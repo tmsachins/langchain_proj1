{
 "cells": [
  {
   "cell_type": "code",
   "execution_count": 1,
   "id": "88547dc4",
   "metadata": {},
   "outputs": [],
   "source": [
    "from typing import TypedDict\n",
    "from langgraph.graph import StateGraph, START, END "
   ]
  },
  {
   "cell_type": "code",
   "execution_count": 19,
   "id": "b482d19a",
   "metadata": {},
   "outputs": [
    {
     "data": {
      "image/png": "[encoded data removed]",
      "text/plain": [
       "<langgraph.graph.state.CompiledStateGraph object at 0x00000219B0DF8E80>"
      ]
     },
     "execution_count": 19,
     "metadata": {},
     "output_type": "execute_result"
    }
   ],
   "source": [
    "\n",
    "class Mystate(TypedDict):\n",
    "    input:str\n",
    "    output:str\n",
    "\n",
    "def process(state):\n",
    "    state[\"output\"]=state[\"input\"].upper()\n",
    "    return state\n",
    "\n",
    "builder=StateGraph(Mystate)\n",
    "builder.add_node(\"process1\",process)\n",
    "\n",
    "builder.add_edge(START,\"process1\")\n",
    "builder.add_edge(\"process1\",END)\n",
    "\n",
    "graph=builder.compile()\n",
    "graph"
   ]
  },
  {
   "cell_type": "code",
   "execution_count": 21,
   "id": "acd044f6",
   "metadata": {},
   "outputs": [
    {
     "name": "stdout",
     "output_type": "stream",
     "text": [
      "{'input': 'Hi', 'output': 'HI'}\n"
     ]
    }
   ],
   "source": [
    "result=graph.invoke({\"input\":\"Hi\"})\n",
    "print(result)\n"
   ]
  },
  {
   "cell_type": "code",
   "execution_count": null,
   "id": "cf594360",
   "metadata": {},
   "outputs": [],
   "source": []
  }
 ],
 "metadata": {
  "kernelspec": {
   "display_name": "Python 3",
   "language": "python",
   "name": "python3"
  },
  "language_info": {
   "codemirror_mode": {
    "name": "ipython",
    "version": 3
   },
   "file_extension": ".py",
   "mimetype": "text/x-python",
   "name": "python",
   "nbconvert_exporter": "python",
   "pygments_lexer": "ipython3",
   "version": "3.9.21"
  }
 },
 "nbformat": 4,
 "nbformat_minor": 5
}
