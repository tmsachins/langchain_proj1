{
 "cells": [
  {
   "attachments": {
    "image.png": {
     "image/png": "[encoded data removed]"
    }
   },
   "cell_type": "markdown",
   "id": "140ac19a",
   "metadata": {},
   "source": [
    "# Langchain Models\n",
    "![image.png](attachment:image.png)"
   ]
  },
  {
   "cell_type": "code",
   "execution_count": 5,
   "id": "13b7ff78",
   "metadata": {},
   "outputs": [],
   "source": [
    "import os\n",
    "from dotenv import load_dotenv, find_dotenv\n",
    "load_dotenv()\n",
    "os.environ[\"OPENAI_API_KEY\"] = os.getenv(\"OPENAI_API_KEY\")"
   ]
  },
  {
   "cell_type": "code",
   "execution_count": null,
   "id": "6b9aca46",
   "metadata": {},
   "outputs": [],
   "source": [
    "OPENAI_API_KEY=os.environ[\"OPENAI_API_KEY\"]\n",
    "# print(OPENAI_API_KEY)"
   ]
  },
  {
   "cell_type": "code",
   "execution_count": 4,
   "id": "6ec8b316",
   "metadata": {},
   "outputs": [
    {
     "name": "stderr",
     "output_type": "stream",
     "text": [
      "C:\\Users\\sachi\\AppData\\Local\\Temp\\ipykernel_26680\\581258352.py:2: LangChainDeprecationWarning: The class `OpenAI` was deprecated in LangChain 0.0.10 and will be removed in 1.0. An updated version of the class exists in the :class:`~langchain-openai package and should be used instead. To use it run `pip install -U :class:`~langchain-openai` and import as `from :class:`~langchain_openai import OpenAI``.\n",
      "  llm = OpenAI(\n",
      "C:\\Users\\sachi\\AppData\\Local\\Temp\\ipykernel_26680\\581258352.py:6: LangChainDeprecationWarning: The method `BaseLLM.__call__` was deprecated in langchain-core 0.1.7 and will be removed in 1.0. Use :meth:`~invoke` instead.\n",
      "  result = llm(\"Write a very short poem\")\n"
     ]
    },
    {
     "name": "stdout",
     "output_type": "stream",
     "text": [
      "\n",
      "\n",
      "Roses red, violets blue\n",
      "Nature's beauty, ever true\n",
      "Fragrant petals, soft and sweet\n",
      "A lovely sight, oh so neat\n"
     ]
    }
   ],
   "source": [
    "from langchain.llms import OpenAI\n",
    "llm = OpenAI(\n",
    "    openai_api_key=OPENAI_API_KEY\n",
    "\n",
    ")\n",
    "result = llm(\"Write a very short poem\")\n",
    "print(result)"
   ]
  },
  {
   "cell_type": "markdown",
   "id": "1bdcb7a3",
   "metadata": {},
   "source": [
    "# Langchain Prompts"
   ]
  },
  {
   "cell_type": "code",
   "execution_count": 14,
   "id": "9b92a7b8",
   "metadata": {},
   "outputs": [
    {
     "name": "stdout",
     "output_type": "stream",
     "text": [
      "\n",
      "A poem on {ask}:\n",
      "\n",
      "Questions and queries,\n",
      "They never cease.\n",
      "Curiosity arises,\n",
      "And we seek release.\n",
      "With each {ask},\n",
      "We learn and grow.\n",
      "For knowledge and understanding,\n",
      "Is what makes us glow.\n"
     ]
    }
   ],
   "source": [
    "prompt = \"\"\"\n",
    "Answer the user's query based on the context below.\n",
    "If you cannot answer the question using the\n",
    "provided information answer with \"I don't know\".\n",
    "\n",
    "Context: write very short poem on {ask}\n",
    "\"\"\"\n",
    "\n",
    "ask=input(\"Give the context : \")\n",
    "print(llm(prompt))"
   ]
  },
  {
   "cell_type": "markdown",
   "id": "ce25d347",
   "metadata": {},
   "source": [
    "## Using langchain prompt templates"
   ]
  },
  {
   "cell_type": "code",
   "execution_count": 16,
   "id": "3f4ea475",
   "metadata": {},
   "outputs": [],
   "source": [
    "from langchain import PromptTemplate\n",
    "\n",
    "template = \"\"\"Answer the question based on the context below. If the\n",
    "question cannot be answered using the information provided answer\n",
    "with \"I don't know\".\n",
    "\n",
    "Context: Large Language Models (LLMs) are the latest models used in NLP.\n",
    "Their superior performance over smaller models has made them incredibly\n",
    "useful for developers building NLP enabled applications. These models\n",
    "can be accessed via Hugging Face's `transformers` library, via OpenAI\n",
    "using the `openai` library, and via Cohere using the `cohere` library.\n",
    "\n",
    "Question: {query}\n",
    "\n",
    "Answer: \"\"\"\n",
    "\n",
    "prompt_template = PromptTemplate(\n",
    "    input_variables=[\"query\"],\n",
    "    template=template\n",
    ")"
   ]
  },
  {
   "cell_type": "code",
   "execution_count": 17,
   "id": "6f78f83e",
   "metadata": {},
   "outputs": [
    {
     "name": "stdout",
     "output_type": "stream",
     "text": [
      "Answer the question based on the context below. If the\n",
      "question cannot be answered using the information provided answer\n",
      "with \"I don't know\".\n",
      "\n",
      "Context: Large Language Models (LLMs) are the latest models used in NLP.\n",
      "Their superior performance over smaller models has made them incredibly\n",
      "useful for developers building NLP enabled applications. These models\n",
      "can be accessed via Hugging Face's `transformers` library, via OpenAI\n",
      "using the `openai` library, and via Cohere using the `cohere` library.\n",
      "\n",
      "Question: Which libraries and model providers offer LLMs?\n",
      "\n",
      "Answer: \n"
     ]
    }
   ],
   "source": [
    "print(\n",
    "    prompt_template.format(\n",
    "        query=\"Which libraries and model providers offer LLMs?\"\n",
    "    )\n",
    ")"
   ]
  },
  {
   "cell_type": "code",
   "execution_count": 19,
   "id": "5668877b",
   "metadata": {},
   "outputs": [
    {
     "name": "stdout",
     "output_type": "stream",
     "text": [
      "Hugging Face, OpenAI, and Cohere offer LLMs.\n"
     ]
    }
   ],
   "source": [
    "print(llm(\n",
    "    prompt_template.format(\n",
    "        query=\"Which libraries and model providers offer LLMs?\"\n",
    "    )\n",
    "))"
   ]
  },
  {
   "cell_type": "markdown",
   "id": "2b7e4e13",
   "metadata": {},
   "source": [
    "## Langchain Chains"
   ]
  },
  {
   "cell_type": "code",
   "execution_count": 31,
   "id": "be7ea7ed",
   "metadata": {},
   "outputs": [
    {
     "name": "stdout",
     "output_type": "stream",
     "text": [
      "{'language': 'python', 'task': 'return a list of numbers', 'text': '\\n\\ndef return_list():\\n    return [1, 2, 3, 4, 5]'}\n"
     ]
    }
   ],
   "source": [
    "from langchain.chains import LLMChain\n",
    "\n",
    "# llm = OpenAI(\n",
    "#     openai_api_key=api_key\n",
    "# )\n",
    "\n",
    "code_prompt = PromptTemplate(\n",
    "    template=\"Write a very short {language} function that will {task}\",\n",
    "    input_variables=[\"language\", \"task\"]\n",
    ")\n",
    "\n",
    "code_chain = LLMChain(\n",
    "    llm=llm,\n",
    "    prompt=code_prompt\n",
    ")\n",
    "\n",
    "result = code_chain({\n",
    "    \"language\": \"python\",\n",
    "    \"task\": \"return a list of numbers\"\n",
    "})\n",
    "\n",
    "print(result)"
   ]
  },
  {
   "cell_type": "code",
   "execution_count": 36,
   "id": "917af532",
   "metadata": {},
   "outputs": [
    {
     "name": "stdout",
     "output_type": "stream",
     "text": [
      "\n",
      "\n",
      "def return_list():\n",
      "    return [1, 2, 3, 4, 5]\n"
     ]
    }
   ],
   "source": [
    "print(result[\"text\"])"
   ]
  },
  {
   "cell_type": "markdown",
   "id": "1326779d",
   "metadata": {},
   "source": [
    "## Sequential Chain"
   ]
  },
  {
   "cell_type": "code",
   "execution_count": 43,
   "id": "5b2fdc12",
   "metadata": {},
   "outputs": [
    {
     "name": "stdout",
     "output_type": "stream",
     "text": [
      "{'language': 'python', 'task': 'return a list of numbers', 'test': \"\\n\\nimport unittest\\n\\nclass TestReturnList(unittest.TestCase):\\n    \\n    def test_return_list(self):\\n        self.assertEqual(return_list(), [1, 2, 3, 4, 5])\\n\\nif __name__ == '__main__':\\n    unittest.main()\", 'code': '\\n\\ndef return_list():\\n    return [1, 2, 3, 4, 5]'}\n"
     ]
    }
   ],
   "source": [
    "from langchain.chains import LLMChain, SequentialChain\n",
    "\n",
    "# llm = OpenAI(\n",
    "#     openai_api_key=api_key\n",
    "# )\n",
    "\n",
    "code_prompt = PromptTemplate(\n",
    "    template=\"Write a very short {language} function that will {task}\",\n",
    "    input_variables=[\"language\", \"task\"]\n",
    ")\n",
    "\n",
    "test_prompt = PromptTemplate(\n",
    "    input_variables=[\"language\", \"code\"],\n",
    "    template=\"Write a test in {language} for the following {language} code:\\n{code}\"\n",
    ")\n",
    "\n",
    "code_chain = LLMChain(\n",
    "    llm=llm,\n",
    "    prompt=code_prompt,\n",
    "    output_key=\"code\"\n",
    ")\n",
    "\n",
    "test_chain = LLMChain(\n",
    "    llm=llm,\n",
    "    prompt=test_prompt,\n",
    "    output_key=\"test\"\n",
    ")\n",
    "\n",
    "chain = SequentialChain(\n",
    "    chains=[code_chain, test_chain],\n",
    "    input_variables=[\"task\", \"language\"],\n",
    "    output_variables=[\"test\", \"code\"]\n",
    ")\n",
    "\n",
    "result = chain({\n",
    "    \"language\": \"python\",\n",
    "    \"task\": \"return a list of numbers\"\n",
    "})\n",
    "\n",
    "print(result)\n",
    "\n"
   ]
  },
  {
   "cell_type": "code",
   "execution_count": 44,
   "id": "b83f04d1",
   "metadata": {},
   "outputs": [
    {
     "name": "stdout",
     "output_type": "stream",
     "text": [
      "\n",
      "\n",
      "def return_list():\n",
      "    return [1, 2, 3, 4, 5] \n",
      "\n",
      "\n",
      "\n",
      "import unittest\n",
      "\n",
      "class TestReturnList(unittest.TestCase):\n",
      "    \n",
      "    def test_return_list(self):\n",
      "        self.assertEqual(return_list(), [1, 2, 3, 4, 5])\n",
      "\n",
      "if __name__ == '__main__':\n",
      "    unittest.main()\n"
     ]
    }
   ],
   "source": [
    "print(result[\"code\"],\"\\n\")\n",
    "print(result[\"test\"])"
   ]
  },
  {
   "cell_type": "markdown",
   "id": "e6baaa56",
   "metadata": {},
   "source": [
    "## Memory Management"
   ]
  },
  {
   "cell_type": "code",
   "execution_count": null,
   "id": "81294796",
   "metadata": {},
   "outputs": [],
   "source": [
    "while True:\n",
    "    content = input(\">> \")\n",
    "\n",
    "    print(f\"You entered: {content}\")\n"
   ]
  },
  {
   "cell_type": "code",
   "execution_count": null,
   "id": "f87c1711",
   "metadata": {},
   "outputs": [],
   "source": [
    "from langchain.prompts import HumanMessagePromptTemplate, ChatPromptTemplate\n",
    "\n",
    "prompt = ChatPromptTemplate(\n",
    "    input_variables=[\"content\"],\n",
    "    messages=[\n",
    "        HumanMessagePromptTemplate.from_template(\"{content}\")\n",
    "    ]\n",
    ")\n",
    "\n",
    "while True:\n",
    "    content = input(\">> \")\n",
    "\n",
    "    print(f\"You entered: {content}\")"
   ]
  },
  {
   "cell_type": "code",
   "execution_count": null,
   "id": "9dcd4a19",
   "metadata": {},
   "outputs": [],
   "source": [
    "from langchain.chat_models import ChatOpenAI\n",
    "from langchain.chains import LLMChain\n",
    "from langchain.prompts import HumanMessagePromptTemplate, ChatPromptTemplate\n",
    "from dotenv import load_dotenv\n",
    "\n",
    "load_dotenv()\n",
    "\n",
    "chat = ChatOpenAI()\n",
    "\n",
    "prompt = ChatPromptTemplate(\n",
    "    input_variables=[\"content\"],\n",
    "    messages=[\n",
    "        HumanMessagePromptTemplate.from_template(\"{content}\")\n",
    "    ]\n",
    ")\n",
    "\n",
    "chain = LLMChain(\n",
    "    llm=chat,\n",
    "    prompt=prompt\n",
    ")\n",
    "\n",
    "while True:\n",
    "    content = input(\">> \")\n",
    "\n",
    "    result = chain({\"content\": content})\n",
    "\n",
    "    print(result[\"text\"])"
   ]
  }
 ],
 "metadata": {
  "kernelspec": {
   "display_name": "Python 3",
   "language": "python",
   "name": "python3"
  },
  "language_info": {
   "codemirror_mode": {
    "name": "ipython",
    "version": 3
   },
   "file_extension": ".py",
   "mimetype": "text/x-python",
   "name": "python",
   "nbconvert_exporter": "python",
   "pygments_lexer": "ipython3",
   "version": "3.9.21"
  }
 },
 "nbformat": 4,
 "nbformat_minor": 5
}
