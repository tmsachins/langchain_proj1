{
 "cells": [
  {
   "cell_type": "code",
   "execution_count": 1,
   "id": "9434a369",
   "metadata": {},
   "outputs": [
    {
     "data": {
      "text/plain": [
       "True"
      ]
     },
     "execution_count": 1,
     "metadata": {},
     "output_type": "execute_result"
    }
   ],
   "source": [
    "import os\n",
    "from dotenv import load_dotenv\n",
    "load_dotenv()"
   ]
  },
  {
   "cell_type": "code",
   "execution_count": 2,
   "id": "60af1ccb",
   "metadata": {},
   "outputs": [],
   "source": [
    "OPENAI_API_KEY=os.getenv(\"OPENAI_API_KEY\")"
   ]
  },
  {
   "cell_type": "code",
   "execution_count": 3,
   "id": "3ed0c1ef",
   "metadata": {},
   "outputs": [],
   "source": [
    " from langchain_openai import ChatOpenAI\n",
    " llm = ChatOpenAI(model=\"gpt-3.5-turbo\")"
   ]
  },
  {
   "cell_type": "code",
   "execution_count": 4,
   "id": "d3b15c2a",
   "metadata": {},
   "outputs": [],
   "source": [
    "def multiply(a: int, b: int) -> int:\n",
    "    \"\"\"Multiply a and b.\n",
    "\n",
    "    Args:\n",
    "        a: first int\n",
    "        b: second int\n",
    "    \"\"\"\n",
    "    return a * b\n",
    "\n",
    "# This will be a tool\n",
    "def add(a: int, b: int) -> int:\n",
    "    \"\"\"Adds a and b.\n",
    "\n",
    "    Args:\n",
    "        a: first int\n",
    "        b: second int\n",
    "    \"\"\"\n",
    "    return a + b\n",
    "    \n",
    "def divide(a: int, b: int) -> float:\n",
    "    \"\"\"Adds a and b.\n",
    "\n",
    "    Args:\n",
    "        a: first int\n",
    "        b: second int\n",
    "    \"\"\"\n",
    "    return a / b"
   ]
  },
  {
   "cell_type": "code",
   "execution_count": 5,
   "id": "e0558ccc",
   "metadata": {},
   "outputs": [],
   "source": [
    "tools = [add, multiply, divide]\n",
    "llm_with_tools = llm.bind_tools(tools)"
   ]
  },
  {
   "cell_type": "code",
   "execution_count": 6,
   "id": "015bfc73",
   "metadata": {},
   "outputs": [],
   "source": [
    "from langgraph.graph import MessagesState\n",
    "from langchain.schema import SystemMessage\n",
    "\n",
    "\n",
    "# System message\n",
    "sys_msg = SystemMessage(content=\"You are a helpful assistant tasked with performing arithmetic on a set of inputs.\")\n",
    "\n",
    "# Node\n",
    "def assistant(state: MessagesState):\n",
    "   return {\"messages\": [llm_with_tools.invoke([sys_msg] + state[\"messages\"])]}"
   ]
  },
  {
   "cell_type": "code",
   "execution_count": 7,
   "id": "0b4a3959",
   "metadata": {},
   "outputs": [
    {
     "data": {
      "image/png": "[encoded data removed]",
      "text/plain": [
       "<langgraph.graph.state.CompiledStateGraph object at 0x000001A9C27E6E20>"
      ]
     },
     "execution_count": 7,
     "metadata": {},
     "output_type": "execute_result"
    }
   ],
   "source": [
    "from langgraph.graph import START, StateGraph\n",
    "from langgraph.prebuilt import tools_condition, ToolNode\n",
    "\n",
    "from langchain_core.messages import AIMessage, HumanMessage, SystemMessage\n",
    "\n",
    "# Graph\n",
    "builder = StateGraph(MessagesState)\n",
    "\n",
    "# Define nodes: these do the work\n",
    "builder.add_node(\"assistant\", assistant)\n",
    "builder.add_node(\"tools\", ToolNode(tools))\n",
    "\n",
    "# Define edges: these determine the control flow\n",
    "builder.add_edge(START, \"assistant\")\n",
    "builder.add_conditional_edges(\n",
    "    \"assistant\",\n",
    "    # If the latest message (result) from assistant is a tool call -> tools_condition routes to tools\n",
    "    # If the latest message (result) from assistant is a not a tool call -> tools_condition routes to END\n",
    "    tools_condition,\n",
    ")\n",
    "builder.add_edge(\"tools\", \"assistant\")\n",
    "react_graph = builder.compile()\n",
    "\n",
    "# graph = builder.compile()\n",
    "react_graph"
   ]
  },
  {
   "cell_type": "code",
   "execution_count": 9,
   "id": "34f23468",
   "metadata": {},
   "outputs": [
    {
     "ename": "NameError",
     "evalue": "name 'langgraph' is not defined",
     "output_type": "error",
     "traceback": [
      "\u001b[1;31m---------------------------------------------------------------------------\u001b[0m",
      "\u001b[1;31mNameError\u001b[0m                                 Traceback (most recent call last)",
      "Cell \u001b[1;32mIn[9], line 3\u001b[0m\n\u001b[0;32m      1\u001b[0m messages \u001b[38;5;241m=\u001b[39m [HumanMessage(content\u001b[38;5;241m=\u001b[39m\u001b[38;5;124m\"\u001b[39m\u001b[38;5;124mAdd 3 and 4. Multiply the output by 2. Divide the output by 5\u001b[39m\u001b[38;5;124m\"\u001b[39m)]\n\u001b[0;32m      2\u001b[0m messages \u001b[38;5;241m=\u001b[39m react_graph\u001b[38;5;241m.\u001b[39minvoke({\u001b[38;5;124m\"\u001b[39m\u001b[38;5;124mmessages\u001b[39m\u001b[38;5;124m\"\u001b[39m: messages})\n\u001b[1;32m----> 3\u001b[0m \u001b[43mlanggraph\u001b[49m\u001b[38;5;241m.\u001b[39mverbose\u001b[38;5;241m=\u001b[39m\u001b[38;5;28;01mTrue\u001b[39;00m\n\u001b[0;32m      4\u001b[0m \u001b[38;5;28;01mfor\u001b[39;00m m \u001b[38;5;129;01min\u001b[39;00m messages[\u001b[38;5;124m'\u001b[39m\u001b[38;5;124mmessages\u001b[39m\u001b[38;5;124m'\u001b[39m]:\n\u001b[0;32m      5\u001b[0m     m\u001b[38;5;241m.\u001b[39mpretty_print()\n",
      "\u001b[1;31mNameError\u001b[0m: name 'langgraph' is not defined"
     ]
    }
   ],
   "source": [
    "messages = [HumanMessage(content=\"Add 3 and 4. Multiply the output by 2. Divide the output by 5\")]\n",
    "messages = react_graph.invoke({\"messages\": messages})\n",
    "langgraph.verbose=True\n",
    "for m in messages['messages']:\n",
    "    m.pretty_print()"
   ]
  },
  {
   "cell_type": "code",
   "execution_count": 19,
   "id": "20d1adaf",
   "metadata": {},
   "outputs": [
    {
     "name": "stdout",
     "output_type": "stream",
     "text": [
      "content='Add 3 and 4. Multiply the output by 2. Divide the output by 5' additional_kwargs={} response_metadata={} id='387bb48c-c01c-47b9-87b6-7e36d4911f5d'\n",
      "content='' additional_kwargs={'tool_calls': [{'id': 'call_ma9PPKq4Uiz0l5YEWl7otgPO', 'function': {'arguments': '{\"a\": 3, \"b\": 4}', 'name': 'add'}, 'type': 'function'}, {'id': 'call_ZoOl4tM0z8FEhOySOIjYSqy8', 'function': {'arguments': '{\"a\": 7, \"b\": 2}', 'name': 'multiply'}, 'type': 'function'}, {'id': 'call_ctG0MnseVj5nAqvNn1ItSwIL', 'function': {'arguments': '{\"a\": 14, \"b\": 5}', 'name': 'divide'}, 'type': 'function'}], 'refusal': None} response_metadata={'token_usage': {'completion_tokens': 67, 'prompt_tokens': 154, 'total_tokens': 221, 'completion_tokens_details': {'accepted_prediction_tokens': 0, 'audio_tokens': 0, 'reasoning_tokens': 0, 'rejected_prediction_tokens': 0}, 'prompt_tokens_details': {'audio_tokens': 0, 'cached_tokens': 0}}, 'model_name': 'gpt-3.5-turbo-0125', 'system_fingerprint': None, 'id': 'chatcmpl-BTA0qG4u6z9EF4hcSAfCsgjATjDbT', 'finish_reason': 'tool_calls', 'logprobs': None} id='run-77f0c5f7-d619-4f1a-8d84-6bd1752312e7-0' tool_calls=[{'name': 'add', 'args': {'a': 3, 'b': 4}, 'id': 'call_ma9PPKq4Uiz0l5YEWl7otgPO', 'type': 'tool_call'}, {'name': 'multiply', 'args': {'a': 7, 'b': 2}, 'id': 'call_ZoOl4tM0z8FEhOySOIjYSqy8', 'type': 'tool_call'}, {'name': 'divide', 'args': {'a': 14, 'b': 5}, 'id': 'call_ctG0MnseVj5nAqvNn1ItSwIL', 'type': 'tool_call'}] usage_metadata={'input_tokens': 154, 'output_tokens': 67, 'total_tokens': 221, 'input_token_details': {'audio': 0, 'cache_read': 0}, 'output_token_details': {'audio': 0, 'reasoning': 0}}\n",
      "content='7' name='add' id='5a494894-8fa9-4255-bb99-6f85a088ea44' tool_call_id='call_ma9PPKq4Uiz0l5YEWl7otgPO'\n",
      "content='14' name='multiply' id='ce7e59f8-c249-438f-b29f-28065716e23d' tool_call_id='call_ZoOl4tM0z8FEhOySOIjYSqy8'\n",
      "content='2.8' name='divide' id='fe2ec7e0-276d-426a-a185-3c7578d7cc22' tool_call_id='call_ctG0MnseVj5nAqvNn1ItSwIL'\n",
      "content='The result of the operations is as follows:\\n- Addition of 3 and 4 is 7\\n- Multiplication of 7 by 2 is 14\\n- Division of 14 by 5 is 2.8' additional_kwargs={'refusal': None} response_metadata={'token_usage': {'completion_tokens': 49, 'prompt_tokens': 241, 'total_tokens': 290, 'completion_tokens_details': {'accepted_prediction_tokens': 0, 'audio_tokens': 0, 'reasoning_tokens': 0, 'rejected_prediction_tokens': 0}, 'prompt_tokens_details': {'audio_tokens': 0, 'cached_tokens': 0}}, 'model_name': 'gpt-3.5-turbo-0125', 'system_fingerprint': None, 'id': 'chatcmpl-BTA0rSpOWy8jWWE7girR2OPOmbAMl', 'finish_reason': 'stop', 'logprobs': None} id='run-66211d3a-5a04-4702-8e67-a8bd5c28962d-0' usage_metadata={'input_tokens': 241, 'output_tokens': 49, 'total_tokens': 290, 'input_token_details': {'audio': 0, 'cache_read': 0}, 'output_token_details': {'audio': 0, 'reasoning': 0}}\n"
     ]
    }
   ],
   "source": [
    "for m in messages['messages']:\n",
    "    print(m)"
   ]
  },
  {
   "cell_type": "code",
   "execution_count": null,
   "id": "0ac87773",
   "metadata": {},
   "outputs": [],
   "source": []
  }
 ],
 "metadata": {
  "kernelspec": {
   "display_name": "Python 3",
   "language": "python",
   "name": "python3"
  },
  "language_info": {
   "codemirror_mode": {
    "name": "ipython",
    "version": 3
   },
   "file_extension": ".py",
   "mimetype": "text/x-python",
   "name": "python",
   "nbconvert_exporter": "python",
   "pygments_lexer": "ipython3",
   "version": "3.9.21"
  }
 },
 "nbformat": 4,
 "nbformat_minor": 5
}
